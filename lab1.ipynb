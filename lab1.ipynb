{
 "cells": [
  {
   "cell_type": "markdown",
   "id": "6ba8c70c",
   "metadata": {},
   "source": [
    "read the text file dna_raw.txt\n"
   ]
  },
  {
   "cell_type": "code",
   "execution_count": 2,
   "id": "c1e7f622",
   "metadata": {},
   "outputs": [
    {
     "name": "stdout",
     "output_type": "stream",
     "text": [
      ">seq1\n",
      "cGTAaccaataaaaaaacaagcttaacctaattc\n",
      ">seq2\n",
      "agcttagTTTGGatctggccgggg\n",
      ">seq3\n",
      "gcggatttactcCCCCCAAAAANNaggggagagcccagataaatggagtctgtgcgtccaca\n",
      ">seq4\n",
      "gcggatttactcaggggagagcccagGGataaatggagtctgtgcgtccaca\n"
     ]
    }
   ],
   "source": [
    "with open(\"dna_raw.txt\", \"r\") as f:\n",
    "    dna_raw = f.read()\n",
    "    \n",
    "print(dna_raw)"
   ]
  },
  {
   "cell_type": "code",
   "execution_count": 11,
   "id": "ae4178ea",
   "metadata": {},
   "outputs": [
    {
     "name": "stdout",
     "output_type": "stream",
     "text": [
      "['', 'seq1\\ncGTAaccaataaaaaaacaagcttaacctaattc\\n', 'seq2\\nagcttagTTTGGatctggccgggg\\n', 'seq3\\ngcggatttactcCCCCCAAAAANNaggggagagcccagataaatggagtctgtgcgtccaca\\n', 'seq4\\ngcggatttactcaggggagagcccagGGataaatggagtctgtgcgtccaca']\n"
     ]
    }
   ],
   "source": [
    "# create a list of items from the text\n",
    "items = dna_raw.split(\">\")\n",
    "\n",
    "print(items)"
   ]
  },
  {
   "cell_type": "code",
   "execution_count": null,
   "id": "81b7cf62",
   "metadata": {},
   "outputs": [
    {
     "name": "stdout",
     "output_type": "stream",
     "text": [
      "['seq1\\ncGTAaccaataaaaaaacaagcttaacctaattc\\n', 'seq2\\nagcttagTTTGGatctggccgggg\\n', 'seq3\\ngcggatttactcCCCCCAAAAANNaggggagagcccagataaatggagtctgtgcgtccaca\\n', 'seq4\\ngcggatttactcaggggagagcccagGGataaatggagtctgtgcgtccaca']\n"
     ]
    }
   ],
   "source": [
    "# remove the first element that doesn't contain any sequence data\n",
    "items.pop(0)\n",
    "print(items)"
   ]
  },
  {
   "cell_type": "code",
   "execution_count": 13,
   "id": "d01f338f",
   "metadata": {},
   "outputs": [
    {
     "name": "stdout",
     "output_type": "stream",
     "text": [
      "{'seq1': 'cGTAaccaataaaaaaacaagcttaacctaattc', 'seq2': 'agcttagTTTGGatctggccgggg', 'seq3': 'gcggatttactcCCCCCAAAAANNaggggagagcccagataaatggagtctgtgcgtccaca', 'seq4': 'gcggatttactcaggggagagcccagGGataaatggagtctgtgcgtccaca'}\n"
     ]
    }
   ],
   "source": [
    "# create a dictionary of sequences from the list of items\n",
    "dict_of_seq={}\n",
    "for item in items:\n",
    "    key, value = item.strip().split(\"\\n\")\n",
    "    dict_of_seq[key.strip()] = value.strip()\n",
    "\n",
    "print(dict_of_seq)"
   ]
  },
  {
   "cell_type": "code",
   "execution_count": 33,
   "id": "606c7ffc",
   "metadata": {},
   "outputs": [
    {
     "name": "stdout",
     "output_type": "stream",
     "text": [
      "dict_items([('seq1', 'cGTAaccaataaaaaaacaagcttaacctaattc'), ('seq2', 'agcttagTTTGGatctggccgggg'), ('seq3', 'gcggatttactcCCCCCAAAAANNaggggagagcccagataaatggagtctgtgcgtccaca'), ('seq4', 'gcggatttactcaggggagagcccagGGataaatggagtctgtgcgtccaca')])\n"
     ]
    }
   ],
   "source": [
    "x=dict_of_seq.items()\n",
    "print(x)"
   ]
  },
  {
   "cell_type": "code",
   "execution_count": null,
   "id": "939064a8",
   "metadata": {},
   "outputs": [
    {
     "name": "stdout",
     "output_type": "stream",
     "text": [
      "dict_keys(['seq1', 'seq2', 'seq3', 'seq4'])\n"
     ]
    }
   ],
   "source": [
    "y=dict_of_seq.keys()\n",
    "print(x)"
   ]
  },
  {
   "cell_type": "code",
   "execution_count": null,
   "id": "45ff60bc",
   "metadata": {},
   "outputs": [
    {
     "name": "stdout",
     "output_type": "stream",
     "text": [
      "dict_values(['cGTAaccaataaaaaaacaagcttaacctaattc', 'agcttagTTTGGatctggccgggg', 'gcggatttactcCCCCCAAAAANNaggggagagcccagataaatggagtctgtgcgtccaca', 'gcggatttactcaggggagagcccagGGataaatggagtctgtgcgtccaca'])\n"
     ]
    }
   ],
   "source": [
    "z=dict_of_seq.values()\n",
    "print(x)"
   ]
  },
  {
   "cell_type": "code",
   "execution_count": 55,
   "id": "71ae66d4",
   "metadata": {},
   "outputs": [
    {
     "name": "stdout",
     "output_type": "stream",
     "text": [
      "['a', 'a', 'a', 'a', 'a', 'a', 'a', 'a', 'a', 'a', 'a', 'a', 'a', 'a', 'a', 'a', 'a', 'c', 'c', 'c', 'c', 'c', 'c', 'c', 'c', 'g', 'g', 't', 't', 't', 't', 't', 't', 't']\n"
     ]
    }
   ],
   "source": [
    "# take a DNA sequence which is initially a string, convert it into lower string, than to a list and sort the list\n",
    "\n",
    "sequence1=\"cGTAaccaataaaaaaacaagcttaacctaattc\"\n",
    "sequence1_lower=sequence1.lower()\n",
    "list_sequence1=[]\n",
    "for i in sequence1_lower:\n",
    "    list_sequence1.append(i)\n",
    "list_sequence1.sort()\n",
    "print(list_sequence1)\n"
   ]
  },
  {
   "cell_type": "code",
   "execution_count": 56,
   "id": "a6077da9",
   "metadata": {},
   "outputs": [
    {
     "data": {
      "text/plain": [
       "{'a': 17, 'c': 8, 'g': 2, 't': 7}"
      ]
     },
     "execution_count": 56,
     "metadata": {},
     "output_type": "execute_result"
    }
   ],
   "source": [
    "# define a function that creates a dictionary with letters count for each sequence from previously created list\n",
    "\n",
    "def count_letters(sequence):\n",
    "  result = {}\n",
    "  for letter in list_sequence1:\n",
    "    if letter not in result:\n",
    "      result[letter] = 0\n",
    "    result[letter] += 1\n",
    "  return result\n",
    "\n",
    "count_letters(sequence1)"
   ]
  },
  {
   "cell_type": "code",
   "execution_count": 57,
   "id": "e82bc920",
   "metadata": {},
   "outputs": [],
   "source": [
    "import matplotlib.pyplot as plt"
   ]
  },
  {
   "cell_type": "code",
   "execution_count": 68,
   "id": "7a05cf8c",
   "metadata": {},
   "outputs": [
    {
     "name": "stdout",
     "output_type": "stream",
     "text": [
      "{'a': 17, 'c': 8, 'g': 2, 't': 7}\n",
      "dict_keys(['a', 'c', 'g', 't'])\n",
      "dict_values([17, 8, 2, 7])\n"
     ]
    }
   ],
   "source": [
    "sequence1_dict=count_letters(sequence1)\n",
    "print(sequence1_dict)\n",
    "DNA_letters=sequence1_dict.keys()\n",
    "Frequency=sequence1_dict.values()\n",
    "print(DNA_letters)\n",
    "print(Frequency)"
   ]
  },
  {
   "cell_type": "code",
   "execution_count": 74,
   "id": "92c2903f",
   "metadata": {},
   "outputs": [
    {
     "data": {
      "text/plain": [
       "Text(0, 0.5, 'Frequency')"
      ]
     },
     "execution_count": 74,
     "metadata": {},
     "output_type": "execute_result"
    },
    {
     "data": {
      "image/png": "[encoded data removed]",
      "text/plain": [
       "<Figure size 640x480 with 1 Axes>"
      ]
     },
     "metadata": {},
     "output_type": "display_data"
    }
   ],
   "source": [
    "plt.bar(DNA_letters,Frequency)\n",
    "plt.title(\"DNA sequence 1\")\n",
    "plt.xlabel(\"DNA letters\")\n",
    "plt.ylabel(\"Frequency\")\n"
   ]
  },
  {
   "cell_type": "code",
   "execution_count": 51,
   "id": "9cfa3239",
   "metadata": {},
   "outputs": [
    {
     "data": {
      "text/plain": [
       "{'c': 8, 'g': 2, 't': 7, 'a': 17}"
      ]
     },
     "execution_count": 51,
     "metadata": {},
     "output_type": "execute_result"
    }
   ],
   "source": [
    "#from coursera\n",
    "def count_letters(sequence):\n",
    "  result = {}\n",
    "  sequence_case_insensitive=sequence.lower()\n",
    "  for letter in sequence_case_insensitive:\n",
    "    if letter not in result:\n",
    "      result[letter] = 0\n",
    "    result[letter] += 1\n",
    "  return result\n",
    "\n",
    "count_letters(\"cGTAaccaataaaaaaacaagcttaacctaattc\")"
   ]
  },
  {
   "cell_type": "code",
   "execution_count": null,
   "id": "95683b60",
   "metadata": {},
   "outputs": [],
   "source": []
  }
 ],
 "metadata": {
  "kernelspec": {
   "display_name": "Python 3",
   "language": "python",
   "name": "python3"
  },
  "language_info": {
   "codemirror_mode": {
    "name": "ipython",
    "version": 3
   },
   "file_extension": ".py",
   "mimetype": "text/x-python",
   "name": "python",
   "nbconvert_exporter": "python",
   "pygments_lexer": "ipython3",
   "version": "3.12.10"
  }
 },
 "nbformat": 4,
 "nbformat_minor": 5
}
