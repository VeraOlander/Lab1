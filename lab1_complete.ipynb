{
 "cells": [
  {
   "cell_type": "code",
   "execution_count": 18,
   "id": "750431cd",
   "metadata": {},
   "outputs": [
    {
     "name": "stdout",
     "output_type": "stream",
     "text": [
      ">seq1\n",
      "cGTAaccaataaaaaaacaagcttaacctaattc\n",
      ">seq2\n",
      "agcttagTTTGGatctggccgggg\n",
      ">seq3\n",
      "gcggatttactcCCCCCAAAAANNaggggagagcccagataaatggagtctgtgcgtccaca\n",
      ">seq4\n",
      "gcggatttactcaggggagagcccagGGataaatggagtctgtgcgtccaca\n",
      ">seq1\n",
      "cGTAaccaataaaaaaacaagcttaacctaattc\n",
      ">seq2\n",
      "agcttagTTTGGatctggccgggg\n",
      ">seq3\n",
      "gcggatttactcCCCCCAAAAANNaggggagagcccagataaatggagtctgtgcgtccaca\n",
      "gaattcgcacca\n",
      "AATAAAACCTCACCCAT\n",
      "agagcccagaatttactcCCC\n",
      ">seq4\n",
      "gcggatttactcaggggagagcccagGGataaatggagtctgtgcgtccaca\n",
      "gaattcgcacca\n"
     ]
    }
   ],
   "source": [
    "# open the text files dna_raw.txt and dna_raw_complicated.txt\n",
    "with open(\"dna_raw.txt\", \"r\") as f1, open(\"dna_raw_complicated.txt\", \"r\") as f2:\n",
    "    dna_raw = f1.read()\n",
    "    dna_raw_complicated = f2.read()\n",
    "    \n",
    "print(dna_raw,)\n",
    "print(dna_raw_complicated)"
   ]
  },
  {
   "cell_type": "code",
   "execution_count": 19,
   "id": "f283a451",
   "metadata": {},
   "outputs": [],
   "source": [
    "#create a function that create a function that is able to take in new data files in similar format\n",
    "\n",
    "\n",
    "# the task is to create a list of sequences for every file and edit the list further using string methods (https://www.w3schools.com/python/python_strings_methods.asp) and for-loop to iterate over all sequences\n",
    "\n",
    "def add_data_from_all_the_files_to_the_list(file_name): # function that can be called for any file in similar format\n",
    "    items = file_name.split(\">\") # for each file create a list of items from the text (separated by \">\")\n",
    "    items.remove('') # remove the first element that doesn't contain any sequence data\n",
    "    items_edited=[] # create a new list to store edited sequences\n",
    "    for item in items: #for-loop to iterate over all sequences\n",
    "        lines=item.splitlines() # method splits the string at line breaks and returns a list \n",
    "        sequence_no_header=lines[1:] # ditch the 1st element of the list which is a header using slicing\n",
    "        sequence_joined=\"\".join(sequence_no_header) # combine all the lines inside every sequence into one single string \n",
    "\n",
    "        items_edited.append(sequence_joined)\n",
    "    \n",
    "      \n",
    "    \n",
    "    return  items_edited\n"
   ]
  },
  {
   "cell_type": "code",
   "execution_count": 20,
   "id": "7caaf2c0",
   "metadata": {},
   "outputs": [
    {
     "data": {
      "text/plain": [
       "['cGTAaccaataaaaaaacaagcttaacctaattc',\n",
       " 'agcttagTTTGGatctggccgggg',\n",
       " 'gcggatttactcCCCCCAAAAANNaggggagagcccagataaatggagtctgtgcgtccaca',\n",
       " 'gcggatttactcaggggagagcccagGGataaatggagtctgtgcgtccaca']"
      ]
     },
     "execution_count": 20,
     "metadata": {},
     "output_type": "execute_result"
    }
   ],
   "source": [
    "add_data_from_all_the_files_to_the_list(dna_raw)\n"
   ]
  },
  {
   "cell_type": "code",
   "execution_count": 22,
   "id": "5b14e9c3",
   "metadata": {},
   "outputs": [
    {
     "data": {
      "text/plain": [
       "['cGTAaccaataaaaaaacaagcttaacctaattc',\n",
       " 'agcttagTTTGGatctggccgggg',\n",
       " 'gcggatttactcCCCCCAAAAANNaggggagagcccagataaatggagtctgtgcgtccacagaattcgcaccaAATAAAACCTCACCCATagagcccagaatttactcCCC',\n",
       " 'gcggatttactcaggggagagcccagGGataaatggagtctgtgcgtccacagaattcgcacca']"
      ]
     },
     "execution_count": 22,
     "metadata": {},
     "output_type": "execute_result"
    }
   ],
   "source": [
    "add_data_from_all_the_files_to_the_list(dna_raw_complicated)\n",
    "\n"
   ]
  },
  {
   "cell_type": "code",
   "execution_count": 23,
   "id": "6167ee99",
   "metadata": {},
   "outputs": [],
   "source": [
    "import matplotlib.pyplot as plt"
   ]
  }
 ],
 "metadata": {
  "kernelspec": {
   "display_name": "Python 3",
   "language": "python",
   "name": "python3"
  },
  "language_info": {
   "codemirror_mode": {
    "name": "ipython",
    "version": 3
   },
   "file_extension": ".py",
   "mimetype": "text/x-python",
   "name": "python",
   "nbconvert_exporter": "python",
   "pygments_lexer": "ipython3",
   "version": "3.12.10"
  }
 },
 "nbformat": 4,
 "nbformat_minor": 5
}
