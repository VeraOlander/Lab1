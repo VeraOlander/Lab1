{
 "cells": [
  {
   "cell_type": "code",
   "execution_count": 2,
   "id": "7932fb16",
   "metadata": {},
   "outputs": [
    {
     "data": {
      "text/plain": [
       "{'c': 8, 'g': 2, 't': 7, 'a': 17}"
      ]
     },
     "execution_count": 2,
     "metadata": {},
     "output_type": "execute_result"
    }
   ],
   "source": [
    "#from coursera\n",
    "def count_letters(sequence):\n",
    "  result = {}\n",
    "  sequence_case_insensitive=sequence.lower()\n",
    "  for letter in sequence_case_insensitive:\n",
    "    if letter not in result:\n",
    "      result[letter] = 0\n",
    "    result[letter] += 1\n",
    "  return result\n",
    "\n",
    "count_letters(\"cGTAaccaataaaaaaacaagcttaacctaattc\")"
   ]
  }
 ],
 "metadata": {
  "kernelspec": {
   "display_name": "Python 3",
   "language": "python",
   "name": "python3"
  },
  "language_info": {
   "codemirror_mode": {
    "name": "ipython",
    "version": 3
   },
   "file_extension": ".py",
   "mimetype": "text/x-python",
   "name": "python",
   "nbconvert_exporter": "python",
   "pygments_lexer": "ipython3",
   "version": "3.12.10"
  }
 },
 "nbformat": 4,
 "nbformat_minor": 5
}
